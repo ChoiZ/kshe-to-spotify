{
 "cells": [
  {
   "cell_type": "markdown",
   "metadata": {},
   "source": [
    "# KSHE 95 songs to Spotify Playlist"
   ]
  },
  {
   "cell_type": "markdown",
   "metadata": {},
   "source": [
    "## Scrapping KSHE 95 player"
   ]
  },
  {
   "cell_type": "code",
   "execution_count": 1,
   "metadata": {
    "collapsed": true
   },
   "outputs": [],
   "source": [
    "from bs4 import BeautifulSoup\n",
    "import requests\n",
    "import json\n",
    "from operator import itemgetter\n",
    "import base64\n",
    "import pandas as pd\n",
    "import datetime"
   ]
  },
  {
   "cell_type": "code",
   "execution_count": 19,
   "metadata": {
    "collapsed": true
   },
   "outputs": [],
   "source": [
    "soup = BeautifulSoup(\n",
    "    requests.get('http://player.listenlive.co/20101/en/songhistory').text, \n",
    "    'html.parser')"
   ]
  },
  {
   "cell_type": "code",
   "execution_count": 20,
   "metadata": {
    "collapsed": true
   },
   "outputs": [],
   "source": [
    "song_history = soup.find('section', {'id': ['songHistory']})\n",
    "song_history_json = json.loads(\n",
    "    song_history.find('script').text.split(';')[0].split('var songs = ')[-1]\n",
    ")\n",
    "song_history_json.sort(key=itemgetter('timestamp'))"
   ]
  },
  {
   "cell_type": "code",
   "execution_count": 21,
   "metadata": {},
   "outputs": [
    {
     "data": {
      "text/plain": [
       "[{u'artist': u'JOURNEY',\n",
       "  u'timestamp': 1502523838000,\n",
       "  u'title': u\"LOVIN',TOUCHIN'/CITY OF THE ANGELS\"},\n",
       " {u'artist': u'BUSH', u'timestamp': 1502524251000, u'title': u'GLYCERINE'},\n",
       " {u'artist': u'AEROSMITH', u'timestamp': 1502524506000, u'title': u'RAG DOLL'},\n",
       " {u'artist': u'WHO', u'timestamp': 1502524757000, u'title': u'MY GENERATION'},\n",
       " {u'artist': u'VAN HALEN',\n",
       "  u'timestamp': 1502525198000,\n",
       "  u'title': u'ERUPTION/YOU REALLY GOT ME'},\n",
       " {u'artist': u'LOVERBOY',\n",
       "  u'timestamp': 1502525458000,\n",
       "  u'title': u'TURN ME LOOSE'},\n",
       " {u'artist': u'JUDAS PRIEST',\n",
       "  u'timestamp': 1502525800000,\n",
       "  u'title': u\"LIVIN' AFTER MIDNIGHT\"},\n",
       " {u'artist': u'NEIL YOUNG', u'timestamp': 1502526007000, u'title': u'OLD MAN'},\n",
       " {u'artist': u'QUEEN',\n",
       "  u'timestamp': 1502526204000,\n",
       "  u'title': u'WE WILL ROCK YOU / WE ARE THE CHAMPIONS'},\n",
       " {u'artist': u'THREE DOORS DOWN',\n",
       "  u'timestamp': 1502526700000,\n",
       "  u'title': u\"WHEN I'M GONE\"}]"
      ]
     },
     "execution_count": 21,
     "metadata": {},
     "output_type": "execute_result"
    }
   ],
   "source": [
    "song_history_json"
   ]
  },
  {
   "cell_type": "markdown",
   "metadata": {},
   "source": [
    "## Uploading songs to Spotify"
   ]
  },
  {
   "cell_type": "markdown",
   "metadata": {},
   "source": [
    "### Authentication"
   ]
  },
  {
   "cell_type": "code",
   "execution_count": 9,
   "metadata": {
    "collapsed": true
   },
   "outputs": [],
   "source": [
    "user_id = 'ericda'\n",
    "\n",
    "with open(\".spotify-token.json\") as f:\n",
    "    credentials = json.loads(f.read())"
   ]
  },
  {
   "cell_type": "code",
   "execution_count": 10,
   "metadata": {
    "collapsed": true
   },
   "outputs": [],
   "source": [
    "auth_header = base64.b64encode(\n",
    "    '{0}:{1}'.format(credentials['client_id'], credentials['client_secret'])\n",
    ").encode('ascii')\n",
    "\n",
    "response = requests.post(\n",
    "    'https://accounts.spotify.com/api/token',\n",
    "    headers={'Authorization': 'Basic {0}'.format(auth_header.decode('ascii'))},\n",
    "    data={'grant_type':'client_credentials'}\n",
    ")\n",
    "\n",
    "token = response.json()['access_token']"
   ]
  },
  {
   "cell_type": "markdown",
   "metadata": {},
   "source": [
    "### Searching a song"
   ]
  },
  {
   "cell_type": "code",
   "execution_count": 16,
   "metadata": {
    "collapsed": true,
    "scrolled": false
   },
   "outputs": [],
   "source": [
    "def search_track(track_name, artist_name, token, limit=1):\n",
    "    try:\n",
    "        response = requests.get(\n",
    "            'https://api.spotify.com/v1/search',\n",
    "            params={\n",
    "                'q':'artist:\"{0}\"%20track:\"{1}\"'.format(artist_name, track_name),\n",
    "                'type':'track',\n",
    "                'limit': limit\n",
    "            },\n",
    "            headers={'Authorization': 'Bearer {0}'.format(token)}\n",
    "        ).json()['tracks']['items'][0]\n",
    "    except:\n",
    "        return {}\n",
    "\n",
    "    return {\n",
    "        'song_name': response['name'],\n",
    "        'artist_name': response['artists'][0]['name'],\n",
    "        'album_name': response['album']['name'],\n",
    "        'popularity': response['popularity'],\n",
    "        'duration_ms': response['duration_ms'],\n",
    "        'explicit': response['explicit'],\n",
    "        'spotify_uri': response['uri'],\n",
    "        'album_image': response['album']['images'][0]['url']\n",
    "    }"
   ]
  },
  {
   "cell_type": "code",
   "execution_count": 17,
   "metadata": {
    "collapsed": true
   },
   "outputs": [],
   "source": [
    "df = pd.DataFrame([search_track(s['title'].lower(), s['artist'].lower(), token) for s in song_history_json])"
   ]
  },
  {
   "cell_type": "code",
   "execution_count": 18,
   "metadata": {},
   "outputs": [
    {
     "data": {
      "text/html": [
       "<div>\n",
       "<table border=\"1\" class=\"dataframe\">\n",
       "  <thead>\n",
       "    <tr style=\"text-align: right;\">\n",
       "      <th></th>\n",
       "      <th>album_image</th>\n",
       "      <th>album_name</th>\n",
       "      <th>artist_name</th>\n",
       "      <th>duration_ms</th>\n",
       "      <th>explicit</th>\n",
       "      <th>popularity</th>\n",
       "      <th>song_name</th>\n",
       "      <th>spotify_uri</th>\n",
       "    </tr>\n",
       "  </thead>\n",
       "  <tbody>\n",
       "    <tr>\n",
       "      <th>0</th>\n",
       "      <td>https://i.scdn.co/image/6c989970431d5d18cc6db6...</td>\n",
       "      <td>Don't Say No (Remastered Edition)</td>\n",
       "      <td>Billy Squier</td>\n",
       "      <td>281453.0</td>\n",
       "      <td>False</td>\n",
       "      <td>58.0</td>\n",
       "      <td>Lonely Is The Night - 2010 - Remaster</td>\n",
       "      <td>spotify:track:28eg5bkYvIHT7HPmzZFwLN</td>\n",
       "    </tr>\n",
       "    <tr>\n",
       "      <th>1</th>\n",
       "      <td>https://i.scdn.co/image/7683bcf0385767362266d9...</td>\n",
       "      <td>Paranoid (Remastered Edition)</td>\n",
       "      <td>Black Sabbath</td>\n",
       "      <td>355303.0</td>\n",
       "      <td>False</td>\n",
       "      <td>66.0</td>\n",
       "      <td>Iron Man - Remastered Version</td>\n",
       "      <td>spotify:track:3IOQZRcEkplCXg6LofKqE9</td>\n",
       "    </tr>\n",
       "    <tr>\n",
       "      <th>2</th>\n",
       "      <td>https://i.scdn.co/image/d1cc1c3d84eb45304a906d...</td>\n",
       "      <td>The Essential Heart</td>\n",
       "      <td>Heart</td>\n",
       "      <td>306373.0</td>\n",
       "      <td>False</td>\n",
       "      <td>42.0</td>\n",
       "      <td>Straight On</td>\n",
       "      <td>spotify:track:47w1ZdXC1h2HvhgQLych1N</td>\n",
       "    </tr>\n",
       "    <tr>\n",
       "      <th>3</th>\n",
       "      <td>https://i.scdn.co/image/339704434b2733dbeb4464...</td>\n",
       "      <td>Eliminator</td>\n",
       "      <td>ZZ Top</td>\n",
       "      <td>243066.0</td>\n",
       "      <td>False</td>\n",
       "      <td>52.0</td>\n",
       "      <td>Got Me Under Pressure - 2008 Remastered Version</td>\n",
       "      <td>spotify:track:1jzZZsfzxsebFa6KpWXaAr</td>\n",
       "    </tr>\n",
       "    <tr>\n",
       "      <th>4</th>\n",
       "      <td>https://i.scdn.co/image/f43bea738e74d000f14298...</td>\n",
       "      <td>The Grand Illusion</td>\n",
       "      <td>Styx</td>\n",
       "      <td>331866.0</td>\n",
       "      <td>False</td>\n",
       "      <td>45.0</td>\n",
       "      <td>Fooling Yourself (The Angry Young Man)</td>\n",
       "      <td>spotify:track:7apWQJSE3gJB55Dp8bXTW9</td>\n",
       "    </tr>\n",
       "    <tr>\n",
       "      <th>5</th>\n",
       "      <td>https://i.scdn.co/image/e6e513e68c4eefdfc7bc21...</td>\n",
       "      <td>Led Zeppelin III (Remastered)</td>\n",
       "      <td>Led Zeppelin</td>\n",
       "      <td>146250.0</td>\n",
       "      <td>False</td>\n",
       "      <td>74.0</td>\n",
       "      <td>Immigrant Song</td>\n",
       "      <td>spotify:track:78lgmZwycJ3nzsdgmPPGNx</td>\n",
       "    </tr>\n",
       "    <tr>\n",
       "      <th>6</th>\n",
       "      <td>https://i.scdn.co/image/9544e5967a8c1bf4561935...</td>\n",
       "      <td>Purple</td>\n",
       "      <td>Stone Temple Pilots</td>\n",
       "      <td>293986.0</td>\n",
       "      <td>False</td>\n",
       "      <td>58.0</td>\n",
       "      <td>Big Empty</td>\n",
       "      <td>spotify:track:07jUylEMp4LBOWZagde8tF</td>\n",
       "    </tr>\n",
       "    <tr>\n",
       "      <th>7</th>\n",
       "      <td>https://i.scdn.co/image/b05e4cdc434c1f8b88cc94...</td>\n",
       "      <td>Goodbye Yellow Brick Road (40th Anniversary Ce...</td>\n",
       "      <td>Elton John</td>\n",
       "      <td>295466.0</td>\n",
       "      <td>False</td>\n",
       "      <td>50.0</td>\n",
       "      <td>Saturday Night’s Alright (For Fighting) - Rema...</td>\n",
       "      <td>spotify:track:12yHvSYFXI7PGzNecUvIDu</td>\n",
       "    </tr>\n",
       "    <tr>\n",
       "      <th>8</th>\n",
       "      <td>https://i.scdn.co/image/750a4e51bebe3270835c51...</td>\n",
       "      <td>Asia</td>\n",
       "      <td>Asia</td>\n",
       "      <td>227626.0</td>\n",
       "      <td>False</td>\n",
       "      <td>62.0</td>\n",
       "      <td>Heat Of The Moment</td>\n",
       "      <td>spotify:track:2ZBalNGwjqdKJd29O76wBV</td>\n",
       "    </tr>\n",
       "    <tr>\n",
       "      <th>9</th>\n",
       "      <td>NaN</td>\n",
       "      <td>NaN</td>\n",
       "      <td>NaN</td>\n",
       "      <td>NaN</td>\n",
       "      <td>NaN</td>\n",
       "      <td>NaN</td>\n",
       "      <td>NaN</td>\n",
       "      <td>NaN</td>\n",
       "    </tr>\n",
       "  </tbody>\n",
       "</table>\n",
       "</div>"
      ],
      "text/plain": [
       "                                         album_image  \\\n",
       "0  https://i.scdn.co/image/6c989970431d5d18cc6db6...   \n",
       "1  https://i.scdn.co/image/7683bcf0385767362266d9...   \n",
       "2  https://i.scdn.co/image/d1cc1c3d84eb45304a906d...   \n",
       "3  https://i.scdn.co/image/339704434b2733dbeb4464...   \n",
       "4  https://i.scdn.co/image/f43bea738e74d000f14298...   \n",
       "5  https://i.scdn.co/image/e6e513e68c4eefdfc7bc21...   \n",
       "6  https://i.scdn.co/image/9544e5967a8c1bf4561935...   \n",
       "7  https://i.scdn.co/image/b05e4cdc434c1f8b88cc94...   \n",
       "8  https://i.scdn.co/image/750a4e51bebe3270835c51...   \n",
       "9                                                NaN   \n",
       "\n",
       "                                          album_name          artist_name  \\\n",
       "0                  Don't Say No (Remastered Edition)         Billy Squier   \n",
       "1                      Paranoid (Remastered Edition)        Black Sabbath   \n",
       "2                                The Essential Heart                Heart   \n",
       "3                                         Eliminator               ZZ Top   \n",
       "4                                 The Grand Illusion                 Styx   \n",
       "5                      Led Zeppelin III (Remastered)         Led Zeppelin   \n",
       "6                                             Purple  Stone Temple Pilots   \n",
       "7  Goodbye Yellow Brick Road (40th Anniversary Ce...           Elton John   \n",
       "8                                               Asia                 Asia   \n",
       "9                                                NaN                  NaN   \n",
       "\n",
       "   duration_ms explicit  popularity  \\\n",
       "0     281453.0    False        58.0   \n",
       "1     355303.0    False        66.0   \n",
       "2     306373.0    False        42.0   \n",
       "3     243066.0    False        52.0   \n",
       "4     331866.0    False        45.0   \n",
       "5     146250.0    False        74.0   \n",
       "6     293986.0    False        58.0   \n",
       "7     295466.0    False        50.0   \n",
       "8     227626.0    False        62.0   \n",
       "9          NaN      NaN         NaN   \n",
       "\n",
       "                                           song_name  \\\n",
       "0              Lonely Is The Night - 2010 - Remaster   \n",
       "1                      Iron Man - Remastered Version   \n",
       "2                                        Straight On   \n",
       "3    Got Me Under Pressure - 2008 Remastered Version   \n",
       "4             Fooling Yourself (The Angry Young Man)   \n",
       "5                                     Immigrant Song   \n",
       "6                                          Big Empty   \n",
       "7  Saturday Night’s Alright (For Fighting) - Rema...   \n",
       "8                                 Heat Of The Moment   \n",
       "9                                                NaN   \n",
       "\n",
       "                            spotify_uri  \n",
       "0  spotify:track:28eg5bkYvIHT7HPmzZFwLN  \n",
       "1  spotify:track:3IOQZRcEkplCXg6LofKqE9  \n",
       "2  spotify:track:47w1ZdXC1h2HvhgQLych1N  \n",
       "3  spotify:track:1jzZZsfzxsebFa6KpWXaAr  \n",
       "4  spotify:track:7apWQJSE3gJB55Dp8bXTW9  \n",
       "5  spotify:track:78lgmZwycJ3nzsdgmPPGNx  \n",
       "6  spotify:track:07jUylEMp4LBOWZagde8tF  \n",
       "7  spotify:track:12yHvSYFXI7PGzNecUvIDu  \n",
       "8  spotify:track:2ZBalNGwjqdKJd29O76wBV  \n",
       "9                                   NaN  "
      ]
     },
     "execution_count": 18,
     "metadata": {},
     "output_type": "execute_result"
    }
   ],
   "source": [
    "df"
   ]
  }
 ],
 "metadata": {
  "kernelspec": {
   "display_name": "Python 2",
   "language": "python",
   "name": "python2"
  },
  "language_info": {
   "codemirror_mode": {
    "name": "ipython",
    "version": 2
   },
   "file_extension": ".py",
   "mimetype": "text/x-python",
   "name": "python",
   "nbconvert_exporter": "python",
   "pygments_lexer": "ipython2",
   "version": "2.7.13"
  }
 },
 "nbformat": 4,
 "nbformat_minor": 2
}
